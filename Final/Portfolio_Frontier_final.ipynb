{
 "cells": [
  {
   "cell_type": "code",
   "execution_count": 2,
   "metadata": {},
   "outputs": [],
   "source": [
    "import pandas as pd\n",
    "import numpy as np\n",
    "import scipy.stats as scs\n",
    "import scipy.optimize as sco\n",
    "import matplotlib.pyplot as plt\n",
    "import datetime\n",
    "from pandas import Series, DataFrame"
   ]
  },
  {
   "cell_type": "markdown",
   "metadata": {},
   "source": [
    "### 匯入價格資料"
   ]
  },
  {
   "cell_type": "code",
   "execution_count": 3,
   "metadata": {},
   "outputs": [
    {
     "data": {
      "text/html": [
       "<div>\n",
       "<style scoped>\n",
       "    .dataframe tbody tr th:only-of-type {\n",
       "        vertical-align: middle;\n",
       "    }\n",
       "\n",
       "    .dataframe tbody tr th {\n",
       "        vertical-align: top;\n",
       "    }\n",
       "\n",
       "    .dataframe thead th {\n",
       "        text-align: right;\n",
       "    }\n",
       "</style>\n",
       "<table border=\"1\" class=\"dataframe\">\n",
       "  <thead>\n",
       "    <tr style=\"text-align: right;\">\n",
       "      <th></th>\n",
       "      <th>JKE</th>\n",
       "      <th>IWF</th>\n",
       "      <th>VTI</th>\n",
       "      <th>AOA</th>\n",
       "      <th>SCHX</th>\n",
       "      <th>VPL</th>\n",
       "      <th>VWO</th>\n",
       "      <th>BND</th>\n",
       "      <th>AGG</th>\n",
       "      <th>BLV</th>\n",
       "      <th>IAU</th>\n",
       "    </tr>\n",
       "    <tr>\n",
       "      <th>Date</th>\n",
       "      <th></th>\n",
       "      <th></th>\n",
       "      <th></th>\n",
       "      <th></th>\n",
       "      <th></th>\n",
       "      <th></th>\n",
       "      <th></th>\n",
       "      <th></th>\n",
       "      <th></th>\n",
       "      <th></th>\n",
       "      <th></th>\n",
       "    </tr>\n",
       "  </thead>\n",
       "  <tbody>\n",
       "    <tr>\n",
       "      <th>2013-12-31</th>\n",
       "      <td>94.472626</td>\n",
       "      <td>79.201256</td>\n",
       "      <td>84.738609</td>\n",
       "      <td>37.710819</td>\n",
       "      <td>39.011066</td>\n",
       "      <td>51.982285</td>\n",
       "      <td>34.600319</td>\n",
       "      <td>67.142357</td>\n",
       "      <td>90.489296</td>\n",
       "      <td>63.431301</td>\n",
       "      <td>11.68</td>\n",
       "    </tr>\n",
       "    <tr>\n",
       "      <th>2014-01-02</th>\n",
       "      <td>93.923103</td>\n",
       "      <td>78.510162</td>\n",
       "      <td>83.996521</td>\n",
       "      <td>37.321964</td>\n",
       "      <td>38.665913</td>\n",
       "      <td>51.057976</td>\n",
       "      <td>33.389236</td>\n",
       "      <td>67.201050</td>\n",
       "      <td>90.548790</td>\n",
       "      <td>63.648823</td>\n",
       "      <td>11.88</td>\n",
       "    </tr>\n",
       "    <tr>\n",
       "      <th>2014-01-03</th>\n",
       "      <td>93.496719</td>\n",
       "      <td>78.408775</td>\n",
       "      <td>83.978867</td>\n",
       "      <td>37.347317</td>\n",
       "      <td>38.674755</td>\n",
       "      <td>51.244526</td>\n",
       "      <td>33.347179</td>\n",
       "      <td>67.209480</td>\n",
       "      <td>90.582863</td>\n",
       "      <td>63.765339</td>\n",
       "      <td>12.01</td>\n",
       "    </tr>\n",
       "    <tr>\n",
       "      <th>2014-01-06</th>\n",
       "      <td>93.250404</td>\n",
       "      <td>77.938866</td>\n",
       "      <td>83.757996</td>\n",
       "      <td>37.296593</td>\n",
       "      <td>38.577400</td>\n",
       "      <td>51.032539</td>\n",
       "      <td>33.027584</td>\n",
       "      <td>67.268166</td>\n",
       "      <td>90.701874</td>\n",
       "      <td>63.920723</td>\n",
       "      <td>12.01</td>\n",
       "    </tr>\n",
       "    <tr>\n",
       "      <th>2014-01-07</th>\n",
       "      <td>93.913635</td>\n",
       "      <td>78.547020</td>\n",
       "      <td>84.296883</td>\n",
       "      <td>37.465664</td>\n",
       "      <td>38.816353</td>\n",
       "      <td>51.185162</td>\n",
       "      <td>33.162144</td>\n",
       "      <td>67.352066</td>\n",
       "      <td>90.744354</td>\n",
       "      <td>64.130486</td>\n",
       "      <td>11.95</td>\n",
       "    </tr>\n",
       "  </tbody>\n",
       "</table>\n",
       "</div>"
      ],
      "text/plain": [
       "                  JKE        IWF        VTI        AOA       SCHX        VPL  \\\n",
       "Date                                                                           \n",
       "2013-12-31  94.472626  79.201256  84.738609  37.710819  39.011066  51.982285   \n",
       "2014-01-02  93.923103  78.510162  83.996521  37.321964  38.665913  51.057976   \n",
       "2014-01-03  93.496719  78.408775  83.978867  37.347317  38.674755  51.244526   \n",
       "2014-01-06  93.250404  77.938866  83.757996  37.296593  38.577400  51.032539   \n",
       "2014-01-07  93.913635  78.547020  84.296883  37.465664  38.816353  51.185162   \n",
       "\n",
       "                  VWO        BND        AGG        BLV    IAU  \n",
       "Date                                                           \n",
       "2013-12-31  34.600319  67.142357  90.489296  63.431301  11.68  \n",
       "2014-01-02  33.389236  67.201050  90.548790  63.648823  11.88  \n",
       "2014-01-03  33.347179  67.209480  90.582863  63.765339  12.01  \n",
       "2014-01-06  33.027584  67.268166  90.701874  63.920723  12.01  \n",
       "2014-01-07  33.162144  67.352066  90.744354  64.130486  11.95  "
      ]
     },
     "execution_count": 3,
     "metadata": {},
     "output_type": "execute_result"
    }
   ],
   "source": [
    "Data = pd.read_excel(\"myAssetPool_final.xlsx\", sheet_name = 'Adj_close', index_col=0)\n",
    "Data.head()"
   ]
  },
  {
   "cell_type": "markdown",
   "metadata": {},
   "source": [
    "### 計算投資組合報酬率、標準差及Sharpe Ratio"
   ]
  },
  {
   "cell_type": "code",
   "execution_count": 4,
   "metadata": {},
   "outputs": [],
   "source": [
    "ret = Data.pct_change() # daily return in percentage\n",
    "cov = ret.cov()* 252\n",
    "\n",
    "w = np.random.random(len(Data.columns))\n",
    "w/= np.sum(w)\n",
    "\n",
    "def port_data(ret, cov, weights):\n",
    "    port_ret = np.sum(ret.mean()* weights) * 252\n",
    "    port_var = np.dot(weights.T, np.dot(cov * 252, weights))\n",
    "    port_std = np.sqrt(port_var)\n",
    "    port_sharpe = port_ret / port_var\n",
    "    \n",
    "    return port_ret, port_std, port_sharpe"
   ]
  },
  {
   "cell_type": "code",
   "execution_count": 5,
   "metadata": {},
   "outputs": [
    {
     "data": {
      "text/plain": [
       "(0.0690418766891574, 1.2924727240435343, 0.041330419612027616)"
      ]
     },
     "execution_count": 5,
     "metadata": {},
     "output_type": "execute_result"
    }
   ],
   "source": [
    "sum_sta = port_data(ret, cov, w)\n",
    "sum_sta"
   ]
  },
  {
   "cell_type": "markdown",
   "metadata": {},
   "source": [
    "### 求最大Sharpe Ratio及最小波動率投資組合"
   ]
  },
  {
   "cell_type": "code",
   "execution_count": 6,
   "metadata": {},
   "outputs": [],
   "source": [
    "def statistics(weights):\n",
    "    weights = np.array(weights)\n",
    "    port_ret = np.sum(ret.mean()*weights) * 252\n",
    "    port_vol = np.sqrt(np.dot(weights.T, np.dot(ret.cov()*252,weights)))\n",
    "    \n",
    "    return np.array([port_ret, port_vol, port_ret/port_vol])\n",
    "\n",
    "def min_sharpe(weights):\n",
    "    return -statistics(weights)[2]\n",
    "\n",
    "def min_var(weights):\n",
    "    return statistics(weights)[1]\n",
    "\n",
    "num_assets = len(Data.columns)\n",
    "bounds = tuple((0,1) for x in range(num_assets))\n",
    "cons = ({'type': 'eq', 'fun': lambda x: np.sum(x) - 1})\n",
    "opt_sharpe = sco.minimize(min_sharpe, num_assets* [1./num_assets,], method= 'SLSQP', bounds = bounds, constraints = cons)\n",
    "opt_vol = sco.minimize(min_var, num_assets* [1./num_assets,], method= 'SLSQP', bounds = bounds, constraints = cons)\n"
   ]
  },
  {
   "cell_type": "code",
   "execution_count": 7,
   "metadata": {},
   "outputs": [
    {
     "data": {
      "text/plain": [
       "     fun: -1.5553057259806577\n",
       "     jac: array([ 1.33529305e-04, -4.98920679e-04,  1.55251190e-01,  7.68965289e-01,\n",
       "        3.80203277e-02,  1.80919346e+00,  2.77824698e+00,  1.04337931e-04,\n",
       "        4.11112607e-03,  3.55283961e-01,  7.10149303e-01])\n",
       " message: 'Optimization terminated successfully'\n",
       "    nfev: 169\n",
       "     nit: 14\n",
       "    njev: 14\n",
       "  status: 0\n",
       " success: True\n",
       "       x: array([1.05741334e-03, 1.72963700e-01, 1.70653422e-15, 0.00000000e+00,\n",
       "       1.83490376e-15, 0.00000000e+00, 0.00000000e+00, 8.25978887e-01,\n",
       "       6.35199358e-14, 0.00000000e+00, 0.00000000e+00])"
      ]
     },
     "execution_count": 7,
     "metadata": {},
     "output_type": "execute_result"
    }
   ],
   "source": [
    "opt_sharpe"
   ]
  },
  {
   "cell_type": "code",
   "execution_count": 8,
   "metadata": {},
   "outputs": [
    {
     "data": {
      "text/plain": [
       "     fun: 0.026961500988042144\n",
       "     jac: array([0.03428045, 0.03391027, 0.02763461, 0.02742936, 0.02765845,\n",
       "       0.03135991, 0.04575731, 0.02681592, 0.02697069, 0.06846329,\n",
       "       0.04268529])\n",
       " message: 'Optimization terminated successfully'\n",
       "    nfev: 144\n",
       "     nit: 12\n",
       "    njev: 12\n",
       "  status: 0\n",
       " success: True\n",
       "       x: array([0.00000000e+00, 2.08153248e-17, 3.94092355e-02, 1.25466865e-02,\n",
       "       4.33424358e-02, 0.00000000e+00, 1.58661307e-18, 4.58191055e-01,\n",
       "       4.46510587e-01, 8.89660466e-17, 0.00000000e+00])"
      ]
     },
     "execution_count": 8,
     "metadata": {},
     "output_type": "execute_result"
    }
   ],
   "source": [
    "opt_vol"
   ]
  },
  {
   "cell_type": "code",
   "execution_count": 9,
   "metadata": {},
   "outputs": [
    {
     "name": "stdout",
     "output_type": "stream",
     "text": [
      "1\n",
      "2\n",
      "3\n",
      "4\n",
      "5\n",
      "6\n",
      "7\n",
      "8\n",
      "9\n",
      "10\n",
      "11\n",
      "12\n",
      "13\n",
      "14\n",
      "15\n",
      "16\n",
      "17\n",
      "18\n",
      "19\n",
      "20\n",
      "21\n",
      "22\n",
      "23\n",
      "24\n",
      "25\n",
      "26\n",
      "27\n",
      "28\n",
      "29\n",
      "30\n",
      "31\n",
      "32\n",
      "33\n",
      "34\n",
      "35\n",
      "36\n",
      "37\n",
      "38\n",
      "39\n",
      "40\n",
      "41\n",
      "42\n",
      "43\n",
      "44\n",
      "45\n",
      "46\n",
      "47\n",
      "48\n",
      "49\n",
      "50\n"
     ]
    }
   ],
   "source": [
    "target_returns = np.linspace(0.02, 0.08, 50)\n",
    "target_vol = []\n",
    "\n",
    "cnt = 0\n",
    "for tar in target_returns:\n",
    "    cons = ({'type':'eq','fun':lambda x:statistics(x)[0]-tar},{'type':'eq','fun':lambda x:np.sum(x)-1})\n",
    "    res = sco.minimize(min_var, num_assets*[1./num_assets,],method = 'SLSQP', bounds = bounds, constraints = cons)\n",
    "    target_vol.append(res['fun'])\n",
    "    cnt += 1\n",
    "    print(cnt)\n",
    "\n",
    "target_vol = np.array(target_vol)"
   ]
  },
  {
   "cell_type": "markdown",
   "metadata": {},
   "source": [
    "### 繪製效率前緣圖"
   ]
  },
  {
   "cell_type": "code",
   "execution_count": 11,
   "metadata": {},
   "outputs": [
    {
     "name": "stdout",
     "output_type": "stream",
     "text": [
      "Max_Sharpe:  0.04865762940596025 0.03128492912560998 1.5553057259806577\n",
      "Min_Volatility:  0.0369948242145382 0.026961500988042144 1.3721351875381862\n"
     ]
    },
    {
     "data": {
      "image/png": "[encoded data removed]",
      "text/plain": [
       "<Figure size 864x576 with 2 Axes>"
      ]
     },
     "metadata": {
      "needs_background": "light"
     },
     "output_type": "display_data"
    }
   ],
   "source": [
    "plt.figure(figsize=(12, 8))\n",
    "plt.scatter(target_vol,target_returns, c = target_returns/target_vol, marker = 'x')\n",
    "plt.plot(statistics(opt_sharpe['x'])[1],statistics(opt_sharpe['x'])[0],'r*', markersize=15.0, label='Max_sharpe')\n",
    "plt.plot(statistics(opt_vol['x'])[1],statistics(opt_vol['x'])[0],'b*', markersize=15.0, label='Min_vol')\n",
    "\n",
    "#plt.grid(True)\n",
    "plt.xlabel('Expected Volatility')\n",
    "plt.ylabel('Expected Return')\n",
    "plt.colorbar(label = 'Sharpe ratio')\n",
    "plt.legend(loc = 'lower right')\n",
    "print('Max_Sharpe: ', statistics(opt_sharpe['x'])[0], statistics(opt_sharpe['x'])[1], statistics(opt_sharpe['x'])[2])\n",
    "print('Min_Volatility: ', statistics(opt_vol['x'])[0], statistics(opt_vol['x'])[1], statistics(opt_vol['x'])[2])\n"
   ]
  }
 ],
 "metadata": {
  "kernelspec": {
   "display_name": "Python 3",
   "language": "python",
   "name": "python3"
  },
  "language_info": {
   "codemirror_mode": {
    "name": "ipython",
    "version": 3
   },
   "file_extension": ".py",
   "mimetype": "text/x-python",
   "name": "python",
   "nbconvert_exporter": "python",
   "pygments_lexer": "ipython3",
   "version": "3.7.3"
  }
 },
 "nbformat": 4,
 "nbformat_minor": 2
}
