{
 "cells": [
  {
   "cell_type": "code",
   "execution_count": 1,
   "metadata": {},
   "outputs": [],
   "source": [
    "import pandas as pd\n",
    "import numpy as np\n",
    "import statsmodels.api as sm\n",
    "import scipy.stats as scs\n",
    "import scipy.optimize as sco\n",
    "import matplotlib.pyplot as plt\n",
    "import datetime\n",
    "import pandas_datareader.data as pdr\n",
    "import yfinance as yf\n",
    "yf.pdr_override()\n",
    "from pandas import Series, DataFrame"
   ]
  },
  {
   "cell_type": "markdown",
   "metadata": {},
   "source": [
    "### 資料處理"
   ]
  },
  {
   "cell_type": "code",
   "execution_count": 2,
   "metadata": {},
   "outputs": [],
   "source": [
    "bet_etf_set = ['IVE','VTI','VEA','VWO', 'IWS', 'IWN', 'SHV', 'VTIP', 'IUSB', 'LQD', 'BNDX', 'VWOB', 'MUB']\n",
    "wise_etf_set = ['VTI', 'SCHB', 'SPY', 'VEA', 'SCHF', 'EFA', 'VWO', 'IEMG', 'EEM', 'VGIT', 'VGSH', 'LQD', 'VCIT', 'VCSH', 'SJNK', 'HYS', 'SHYG', 'TIP', 'VNQ', 'IYR', 'ICF']\n",
    "sch_etf_set = ['SCHX', 'FNDX', 'SCHA', 'FNDA', 'SCHF', 'FNDF', 'SCHC', 'FNDC', 'SCHE', 'FNDE', 'SCHR', 'VMBS', 'SCHP', 'BNDX', 'SHYG', 'EMLC', 'SCHH', 'VNQI', 'IAU']\n",
    "\n",
    "def process_data(data_set):\n",
    "    start = datetime.datetime(2015, 4, 1)\n",
    "    end = datetime.date.today()\n",
    "    num_assets = len(data_set)\n",
    "    \n",
    "    all_data = {}\n",
    "    for ticker in data_set:\n",
    "        all_data[ticker] = pdr.get_data_yahoo(ticker, start, end)\n",
    "        \n",
    "    return DataFrame({tic: data['Adj Close'] for tic, data in all_data.items()})"
   ]
  },
  {
   "cell_type": "code",
   "execution_count": 3,
   "metadata": {},
   "outputs": [
    {
     "name": "stdout",
     "output_type": "stream",
     "text": [
      "[*********************100%***********************]  1 of 1 completed\n",
      "[*********************100%***********************]  1 of 1 completed\n",
      "[*********************100%***********************]  1 of 1 completed\n",
      "[*********************100%***********************]  1 of 1 completed\n",
      "[*********************100%***********************]  1 of 1 completed\n",
      "[*********************100%***********************]  1 of 1 completed\n",
      "[*********************100%***********************]  1 of 1 completed\n",
      "[*********************100%***********************]  1 of 1 completed\n",
      "[*********************100%***********************]  1 of 1 completed\n",
      "[*********************100%***********************]  1 of 1 completed\n",
      "[*********************100%***********************]  1 of 1 completed\n",
      "[*********************100%***********************]  1 of 1 completed\n",
      "[*********************100%***********************]  1 of 1 completed\n",
      "[*********************100%***********************]  1 of 1 completed\n",
      "[*********************100%***********************]  1 of 1 completed\n",
      "[*********************100%***********************]  1 of 1 completed\n",
      "[*********************100%***********************]  1 of 1 completed\n",
      "[*********************100%***********************]  1 of 1 completed\n",
      "[*********************100%***********************]  1 of 1 completed\n",
      "[*********************100%***********************]  1 of 1 completed\n",
      "[*********************100%***********************]  1 of 1 completed\n",
      "[*********************100%***********************]  1 of 1 completed\n",
      "[*********************100%***********************]  1 of 1 completed\n",
      "[*********************100%***********************]  1 of 1 completed\n",
      "[*********************100%***********************]  1 of 1 completed\n",
      "[*********************100%***********************]  1 of 1 completed\n",
      "[*********************100%***********************]  1 of 1 completed\n",
      "[*********************100%***********************]  1 of 1 completed\n",
      "[*********************100%***********************]  1 of 1 completed\n",
      "[*********************100%***********************]  1 of 1 completed\n",
      "[*********************100%***********************]  1 of 1 completed\n",
      "[*********************100%***********************]  1 of 1 completed\n",
      "[*********************100%***********************]  1 of 1 completed\n",
      "[*********************100%***********************]  1 of 1 completed\n",
      "[*********************100%***********************]  1 of 1 completed\n",
      "[*********************100%***********************]  1 of 1 completed\n",
      "[*********************100%***********************]  1 of 1 completed\n",
      "[*********************100%***********************]  1 of 1 completed\n",
      "[*********************100%***********************]  1 of 1 completed\n",
      "[*********************100%***********************]  1 of 1 completed\n",
      "[*********************100%***********************]  1 of 1 completed\n",
      "[*********************100%***********************]  1 of 1 completed\n",
      "[*********************100%***********************]  1 of 1 completed\n",
      "[*********************100%***********************]  1 of 1 completed\n",
      "[*********************100%***********************]  1 of 1 completed\n",
      "[*********************100%***********************]  1 of 1 completed\n",
      "[*********************100%***********************]  1 of 1 completed\n",
      "[*********************100%***********************]  1 of 1 completed\n",
      "[*********************100%***********************]  1 of 1 completed\n",
      "[*********************100%***********************]  1 of 1 completed\n",
      "[*********************100%***********************]  1 of 1 completed\n",
      "[*********************100%***********************]  1 of 1 completed\n",
      "[*********************100%***********************]  1 of 1 completed\n"
     ]
    }
   ],
   "source": [
    "betterment = process_data(bet_etf_set)\n",
    "wisebanyan = process_data(wise_etf_set)\n",
    "schwab = process_data(sch_etf_set)"
   ]
  },
  {
   "cell_type": "markdown",
   "metadata": {},
   "source": [
    "### 計算日報酬、風險"
   ]
  },
  {
   "cell_type": "code",
   "execution_count": 4,
   "metadata": {},
   "outputs": [],
   "source": [
    "def returns(firm_dtf):\n",
    "    return np.log(firm_dtf / firm_dtf.shift(1)) # daily return in percentage\n",
    "\n",
    "def cov_matrix(ret_dtf):\n",
    "    return ret_dtf.cov() * 252 # 252 trading days\n",
    "    "
   ]
  },
  {
   "cell_type": "code",
   "execution_count": 5,
   "metadata": {},
   "outputs": [],
   "source": [
    "bet_ret = returns(betterment)\n",
    "wise_ret = returns(wisebanyan)\n",
    "sch_ret = returns(schwab)\n",
    "\n",
    "bet_cov = cov_matrix(bet_ret)\n",
    "wise_cov = cov_matrix(wise_ret)\n",
    "sch_cov = cov_matrix(sch_ret)"
   ]
  },
  {
   "cell_type": "markdown",
   "metadata": {},
   "source": [
    "### 隨機分配權重"
   ]
  },
  {
   "cell_type": "code",
   "execution_count": 6,
   "metadata": {},
   "outputs": [],
   "source": [
    "def weights(firm_dtf):\n",
    "    w = np.random.random(len(firm_dtf.columns))\n",
    "    w/= np.sum(w)\n",
    "    return w"
   ]
  },
  {
   "cell_type": "code",
   "execution_count": 7,
   "metadata": {},
   "outputs": [],
   "source": [
    "bet_weights = weights(betterment)\n",
    "wise_weights = weights(wisebanyan)\n",
    "sch_weights = weights(schwab)"
   ]
  },
  {
   "cell_type": "markdown",
   "metadata": {},
   "source": [
    "### 計算組合年化報酬、變異數、標準差"
   ]
  },
  {
   "cell_type": "code",
   "execution_count": 8,
   "metadata": {},
   "outputs": [],
   "source": [
    "def port_data(ret, cov, weights):\n",
    "    port_ret = np.sum(ret.mean()* weights) * 252\n",
    "    port_var = np.dot(weights.T, np.dot(cov * 252, weights))\n",
    "    port_std = np.sqrt(port_var)\n",
    "    #port_sharpe = port_ret / port_var\n",
    "    \n",
    "    return port_ret, port_var, port_std"
   ]
  },
  {
   "cell_type": "code",
   "execution_count": 9,
   "metadata": {},
   "outputs": [],
   "source": [
    "bet_port = port_data(bet_ret, bet_cov, bet_weights)\n",
    "wise_port = port_data(wise_ret, wise_cov, wise_weights)\n",
    "sch_port = port_data(sch_ret, sch_cov, sch_weights)"
   ]
  },
  {
   "cell_type": "code",
   "execution_count": 10,
   "metadata": {},
   "outputs": [
    {
     "name": "stdout",
     "output_type": "stream",
     "text": [
      "betterment: (0.026060129260560713, 1.9210940963037064, 1.3860353878251834)\n",
      "wisebanyan: (0.02347114800209866, 4.083936789000643, 2.0208752532011083)\n",
      "schwab: (0.01905081256837856, 2.5941462147600465, 1.6106353450610869)\n"
     ]
    }
   ],
   "source": [
    "print('betterment:', bet_port)\n",
    "print('wisebanyan:', wise_port)\n",
    "print('schwab:', sch_port)"
   ]
  },
  {
   "cell_type": "markdown",
   "metadata": {},
   "source": [
    "### 求最小變異數組合"
   ]
  },
  {
   "cell_type": "code",
   "execution_count": 11,
   "metadata": {},
   "outputs": [],
   "source": [
    "def statistics_bet(weights):\n",
    "    weights = np.array(weights)\n",
    "    port_ret = np.sum(bet_ret.mean()*weights) * 252\n",
    "    port_vol = np.sqrt(np.dot(weights.T, np.dot(bet_ret.cov()*252,weights)))\n",
    "    \n",
    "    return np.array([port_ret, port_vol, port_ret/port_vol])\n",
    "\n",
    "def statistics_wise(weights):\n",
    "    weights = np.array(weights)\n",
    "    port_ret = np.sum(wise_ret.mean()*weights) * 252\n",
    "    port_vol = np.sqrt(np.dot(weights.T, np.dot(wise_ret.cov()*252,weights)))\n",
    "    \n",
    "    return np.array([port_ret, port_vol, port_ret/port_vol])\n",
    "\n",
    "def statistics_sch(weights):\n",
    "    weights = np.array(weights)\n",
    "    port_ret = np.sum(sch_ret.mean()*weights) * 252\n",
    "    port_vol = np.sqrt(np.dot(weights.T, np.dot(sch_ret.cov()*252,weights)))\n",
    "    \n",
    "    return np.array([port_ret, port_vol, port_ret/port_vol])\n",
    "\n",
    "def num_assets(firm_dtf):\n",
    "    return len(firm_dtf.columns)\n",
    "\n",
    "def bnds(num_assets):\n",
    "    return tuple((0,1) for x in range(num_assets))"
   ]
  },
  {
   "cell_type": "code",
   "execution_count": 12,
   "metadata": {},
   "outputs": [],
   "source": [
    "noa_bet = num_assets(betterment)\n",
    "noa_wise = num_assets(wisebanyan)\n",
    "noa_sch = num_assets(schwab)\n",
    "bnds_bet = bnds(noa_bet)\n",
    "bnds_wise = bnds(noa_wise)\n",
    "bnds_sch = bnds(noa_sch)"
   ]
  },
  {
   "cell_type": "code",
   "execution_count": 13,
   "metadata": {},
   "outputs": [],
   "source": [
    "def min_var_bet(weights):\n",
    "    return statistics_bet(weights)[1]\n",
    "\n",
    "def min_var_wise(weights):\n",
    "    return statistics_wise(weights)[1]\n",
    "\n",
    "def min_var_sch(weights):\n",
    "    return statistics_sch(weights)[1]\n",
    "\n",
    "\n",
    "cons = ({'type': 'eq', 'fun': lambda x: np.sum(x) - 1})\n",
    "bet_opt_vol = sco.minimize(min_var_bet, noa_bet* [1./noa_bet,], method= 'SLSQP', bounds = bnds_bet, constraints = cons)\n",
    "wise_opt_vol = sco.minimize(min_var_wise, noa_wise* [1./noa_wise,], method= 'SLSQP', bounds = bnds_wise, constraints = cons)\n",
    "sch_opt_vol = sco.minimize(min_var_sch, noa_sch* [1./noa_sch,], method= 'SLSQP', bounds = bnds_sch, constraints = cons)"
   ]
  },
  {
   "cell_type": "code",
   "execution_count": 16,
   "metadata": {},
   "outputs": [
    {
     "data": {
      "text/plain": [
       "     fun: 0.00244751331169687\n",
       "     jac: array([0.00308082, 0.00424752, 0.00361573, 0.00627148, 0.00860504,\n",
       "       0.00412704, 0.00244199, 0.00305581, 0.00579384, 0.00971965,\n",
       "       0.00290217, 0.00511085, 0.00422551])\n",
       " message: 'Optimization terminated successfully.'\n",
       "    nfev: 197\n",
       "     nit: 13\n",
       "    njev: 13\n",
       "  status: 0\n",
       " success: True\n",
       "       x: array([8.46300746e-05, 1.15874107e-18, 0.00000000e+00, 3.00040507e-19,\n",
       "       0.00000000e+00, 2.79309273e-03, 9.97122277e-01, 0.00000000e+00,\n",
       "       0.00000000e+00, 7.21672071e-18, 2.35125921e-18, 3.26277091e-18,\n",
       "       0.00000000e+00])"
      ]
     },
     "execution_count": 16,
     "metadata": {},
     "output_type": "execute_result"
    }
   ],
   "source": [
    "bet_opt_vol"
   ]
  },
  {
   "cell_type": "code",
   "execution_count": 17,
   "metadata": {},
   "outputs": [
    {
     "data": {
      "text/plain": [
       "array([1.16559288e-02, 2.44751331e-03, 4.76235562e+00])"
      ]
     },
     "execution_count": 17,
     "metadata": {},
     "output_type": "execute_result"
    }
   ],
   "source": [
    "statistics_bet(bet_opt_vol.x)"
   ]
  },
  {
   "cell_type": "code",
   "execution_count": 38,
   "metadata": {},
   "outputs": [
    {
     "data": {
      "text/plain": [
       "array([0.01921031, 0.00996715, 1.92736142])"
      ]
     },
     "execution_count": 38,
     "metadata": {},
     "output_type": "execute_result"
    }
   ],
   "source": [
    "statistics_wise(wise_opt_vol.x)"
   ]
  },
  {
   "cell_type": "code",
   "execution_count": 39,
   "metadata": {},
   "outputs": [
    {
     "data": {
      "text/plain": [
       "array([0.03124919, 0.02603369, 1.2003365 ])"
      ]
     },
     "execution_count": 39,
     "metadata": {},
     "output_type": "execute_result"
    }
   ],
   "source": [
    "statistics_sch(sch_opt_vol.x)"
   ]
  },
  {
   "cell_type": "markdown",
   "metadata": {},
   "source": [
    "### 繪製效率前緣（給定多組目標報酬，最小化風險）"
   ]
  },
  {
   "cell_type": "code",
   "execution_count": 31,
   "metadata": {},
   "outputs": [
    {
     "name": "stdout",
     "output_type": "stream",
     "text": [
      "1\n",
      "2\n",
      "3\n",
      "4\n",
      "5\n",
      "6\n",
      "7\n",
      "8\n",
      "9\n",
      "10\n",
      "11\n",
      "12\n",
      "13\n",
      "14\n",
      "15\n",
      "16\n",
      "17\n",
      "18\n",
      "19\n",
      "20\n",
      "21\n",
      "22\n",
      "23\n",
      "24\n",
      "25\n",
      "26\n",
      "27\n",
      "28\n",
      "29\n",
      "30\n",
      "31\n",
      "32\n",
      "33\n",
      "34\n",
      "35\n",
      "36\n",
      "37\n",
      "38\n",
      "39\n",
      "40\n",
      "41\n",
      "42\n",
      "43\n",
      "44\n",
      "45\n",
      "46\n",
      "47\n",
      "48\n",
      "49\n",
      "50\n"
     ]
    }
   ],
   "source": [
    "target_returns_bet = np.linspace(0.0, 0.07, 50)\n",
    "\n",
    "target_vol_bet = []\n",
    "target_vol_wise = []\n",
    "target_vol_sch = []\n",
    "\n",
    "cnt = 0\n",
    "for tar in target_returns_bet:\n",
    "    cons_bet = ({'type':'eq','fun':lambda x:statistics_bet(x)[0]-tar},{'type':'eq','fun':lambda x:np.sum(x)-1})\n",
    "    res_bet = sco.minimize(min_var_bet, noa_bet*[1./noa_bet,],method = 'SLSQP', bounds = bnds_bet, constraints = cons_bet)\n",
    "    target_vol_bet.append(res_bet['fun'])\n",
    "    cnt += 1\n",
    "    print(cnt)\n",
    "target_vol_bet = np.array(target_vol_bet)"
   ]
  },
  {
   "cell_type": "code",
   "execution_count": 33,
   "metadata": {},
   "outputs": [
    {
     "name": "stdout",
     "output_type": "stream",
     "text": [
      "1\n",
      "2\n",
      "3\n",
      "4\n",
      "5\n",
      "6\n",
      "7\n",
      "8\n",
      "9\n",
      "10\n",
      "11\n",
      "12\n",
      "13\n",
      "14\n",
      "15\n",
      "16\n",
      "17\n",
      "18\n",
      "19\n",
      "20\n",
      "21\n",
      "22\n",
      "23\n",
      "24\n",
      "25\n",
      "26\n",
      "27\n",
      "28\n",
      "29\n",
      "30\n",
      "31\n",
      "32\n",
      "33\n",
      "34\n",
      "35\n",
      "36\n",
      "37\n",
      "38\n",
      "39\n",
      "40\n",
      "41\n",
      "42\n",
      "43\n",
      "44\n",
      "45\n",
      "46\n",
      "47\n",
      "48\n",
      "49\n",
      "50\n"
     ]
    }
   ],
   "source": [
    "target_returns_wise = np.linspace(0.0, 0.07, 50)\n",
    "\n",
    "cnt = 0\n",
    "for tar in target_returns_wise:\n",
    "    cons_wise = ({'type':'eq','fun':lambda x:statistics_wise(x)[0]-tar},{'type':'eq','fun':lambda x:np.sum(x)-1})\n",
    "    res_wise = sco.minimize(min_var_wise, noa_wise*[1./noa_wise,],method = 'SLSQP', bounds = bnds_wise, constraints = cons_wise)\n",
    "    target_vol_wise.append(res_wise['fun'])\n",
    "    cnt += 1\n",
    "    print(cnt)\n",
    "target_vol_wise = np.array(target_vol_wise)"
   ]
  },
  {
   "cell_type": "code",
   "execution_count": 35,
   "metadata": {},
   "outputs": [
    {
     "name": "stdout",
     "output_type": "stream",
     "text": [
      "1\n",
      "2\n",
      "3\n",
      "4\n",
      "5\n",
      "6\n",
      "7\n",
      "8\n",
      "9\n",
      "10\n",
      "11\n",
      "12\n",
      "13\n",
      "14\n",
      "15\n",
      "16\n",
      "17\n",
      "18\n",
      "19\n",
      "20\n",
      "21\n",
      "22\n",
      "23\n",
      "24\n",
      "25\n",
      "26\n",
      "27\n",
      "28\n",
      "29\n",
      "30\n",
      "31\n",
      "32\n",
      "33\n",
      "34\n",
      "35\n",
      "36\n",
      "37\n",
      "38\n",
      "39\n",
      "40\n",
      "41\n",
      "42\n",
      "43\n",
      "44\n",
      "45\n",
      "46\n",
      "47\n",
      "48\n",
      "49\n",
      "50\n"
     ]
    }
   ],
   "source": [
    "target_returns_sch = np.linspace(0.0, 0.07, 50)\n",
    "\n",
    "cnt = 0\n",
    "for tar in target_returns_sch:\n",
    "    cons_sch = ({'type':'eq','fun':lambda x:statistics_sch(x)[0]-tar},{'type':'eq','fun':lambda x:np.sum(x)-1})\n",
    "    res_sch = sco.minimize(min_var_sch, noa_sch*[1./noa_sch,],method = 'SLSQP', bounds = bnds_sch, constraints = cons_sch)\n",
    "    target_vol_sch.append(res_sch['fun'])\n",
    "    cnt += 1\n",
    "    print(cnt)\n",
    "target_vol_sch = np.array(target_vol_sch)"
   ]
  },
  {
   "cell_type": "code",
   "execution_count": 37,
   "metadata": {},
   "outputs": [
    {
     "name": "stdout",
     "output_type": "stream",
     "text": [
      "Betterment Min Vol Portfolio: 0.01165592877719659 0.00244751331169687\n",
      "WiseBanyan Min Vol Portfolio: 0.019210309690574277 0.009967154820068264\n",
      "Charles Min Vol Portfolio: 0.031249187818821397 0.026033689605285036\n"
     ]
    },
    {
     "data": {
      "image/png": "[encoded data removed]",
      "text/plain": [
       "<Figure size 864x576 with 2 Axes>"
      ]
     },
     "metadata": {
      "needs_background": "light"
     },
     "output_type": "display_data"
    }
   ],
   "source": [
    "plt.figure(figsize=(12, 8))\n",
    "plt.scatter(target_vol_bet,target_returns_bet, c = target_returns_bet/target_vol_bet, marker = 'x', label = 'betterment')\n",
    "plt.scatter(target_vol_wise,target_returns_wise, c = target_returns_wise/target_vol_wise, marker = '.', label = 'wisebanyan')\n",
    "plt.scatter(target_vol_sch,target_returns_sch, c = target_returns_sch/target_vol_sch, marker = '*', label = 'schwab')\n",
    "\n",
    "\n",
    "#plt.grid(True)\n",
    "plt.xlabel('Expected Volatility')\n",
    "plt.ylabel('Expected Return')\n",
    "plt.colorbar(label = 'Sharpe ratio')\n",
    "plt.legend(loc = 'lower right')\n",
    "\n",
    "print('Betterment Min Vol Portfolio:', np.sum(bet_ret.mean()* bet_opt_vol.x) * 252, bet_opt_vol.fun)\n",
    "print('WiseBanyan Min Vol Portfolio:', np.sum(wise_ret.mean()* wise_opt_vol.x) * 252, wise_opt_vol.fun)\n",
    "print('Charles Min Vol Portfolio:', np.sum(sch_ret.mean()* sch_opt_vol.x) * 252, sch_opt_vol.fun)\n",
    "\n"
   ]
  }
 ],
 "metadata": {
  "kernelspec": {
   "display_name": "Python 3",
   "language": "python",
   "name": "python3"
  },
  "language_info": {
   "codemirror_mode": {
    "name": "ipython",
    "version": 3
   },
   "file_extension": ".py",
   "mimetype": "text/x-python",
   "name": "python",
   "nbconvert_exporter": "python",
   "pygments_lexer": "ipython3",
   "version": "3.7.3"
  }
 },
 "nbformat": 4,
 "nbformat_minor": 2
}
